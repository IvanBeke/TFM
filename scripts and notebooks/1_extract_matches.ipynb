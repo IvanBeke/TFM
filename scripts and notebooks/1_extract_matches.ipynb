{
 "cells": [
  {
   "cell_type": "code",
   "execution_count": 1,
   "metadata": {},
   "outputs": [
    {
     "output_type": "stream",
     "name": "stdout",
     "text": [
      "[{'summoner': 'ug7rHf6jjFmu5QBJFbcNyexPii7WldUpyY83a2TxpX2oj7KI', 'account': 'p1o2pgpOh-tEFBZIRVzdFn0GUxVDY2B3BgsUqhSvQp8ZV54'}, {'summoner': 'YAVNENf3eu3aW2BFrPa6iWqMXcoLBOUxdp6JSIuNDo4LbvZB', 'account': 'uhYkddVgawsd8hwD4Ab1wMZshbjVJspyW__Py3EWl3QD-Bnrv-xtuMNn'}, {'summoner': 'AlK6oorIY5k7bVgFHr__uZv4sxWUlxCYkZ7C8Y3WpndocTY', 'account': '-CImT73qZ2mwJ4dFNsE8iA1JnjD4G14lk8VRP8D4vEvJcw'}, {'summoner': 'HtT7hNmQn2kwFRf7gByz0w5R44jzvAZge-6WoH7WVFn6LTc', 'account': 'LDjQWs18pbpqn-HMkKeKJmanXeCP_yA2JSROWHfYEDePkg'}, {'summoner': 'mY0n-Zr_qUezzMo6jaFvC-BNxFr5L1QWiwpUEVYVrJjH-lCC', 'account': 'sdfs8WqYZ7SPdawXCDA07cxp76vURWRdMLYK6QNzvMfcZUiG92-hUVh3'}]\n['p1o2pgpOh-tEFBZIRVzdFn0GUxVDY2B3BgsUqhSvQp8ZV54', 'uhYkddVgawsd8hwD4Ab1wMZshbjVJspyW__Py3EWl3QD-Bnrv-xtuMNn', '-CImT73qZ2mwJ4dFNsE8iA1JnjD4G14lk8VRP8D4vEvJcw', 'LDjQWs18pbpqn-HMkKeKJmanXeCP_yA2JSROWHfYEDePkg', 'sdfs8WqYZ7SPdawXCDA07cxp76vURWRdMLYK6QNzvMfcZUiG92-hUVh3', 'aWaU609yXnQKVtVUsPyL5COGEeLAPFJfLhInXpe1C6t8_jHk7nRozqRo', 'q1jHew6v0dAbhVhGgflDVMZCZRict6fGL6DThRTP7yh0fYY', 'ojxYNCI1lI--oUb3-4J4gFLyPQZqSk_L4CtabhJc4HHXcA', '2upoB5vNz6i4RK0AY-f-xileNtQh7gpAd_hm6ffBBDGz0eE', 'sLqYx96D0hhcdWGkqApFVwYAqEHKWGNUDPhotUCLao7kvg']\n"
     ]
    }
   ],
   "source": [
    "from utils import build_url, load_json, save_json, call_with_retry, save_execution_state, load_execution_state\n",
    "import os, shutil\n",
    "\n",
    "API_KEY_FILE = 'api_key.txt'\n",
    "REGION = 'euw1'\n",
    "BASE_URL = 'api.riotgames.com'\n",
    "\n",
    "QUEUE_TYPE = [420, 430, 440]  # Ver https://developer.riotgames.com/docs/lol#general_queue-ids\n",
    "\n",
    "with open(API_KEY_FILE) as f:\n",
    "    api_key = f.read()\n",
    "\n",
    "execution_cache_dir = 'current_execution'\n",
    "games_ids_state = f'{execution_cache_dir}/games.pkl'\n",
    "accounts_state = f'{execution_cache_dir}/accounts.pkl'\n",
    "\n",
    "os.makedirs(execution_cache_dir, exist_ok=True)\n",
    "MIN_DELAY = 20/100 # esperar 20ms entre peticiones\n",
    "delay = MIN_DELAY\n",
    "\n",
    "headers = {\n",
    "  'X-Riot-Token': api_key\n",
    "}\n",
    "\n",
    "accounts = load_json('outputs/accounts.json')\n",
    "print(accounts[0:5])\n",
    "accounts_ids = list(map(lambda a: a['account'], accounts))\n",
    "print(accounts_ids[0:10])"
   ]
  },
  {
   "cell_type": "code",
   "execution_count": 2,
   "metadata": {},
   "outputs": [],
   "source": [
    "endpoint = '/lol/match/v4/matchlists/by-account/{}'\n",
    "params = {\n",
    "    'queue': QUEUE_TYPE,\n",
    "}\n",
    "\n",
    "games_ids = load_execution_state(games_ids_state, set())\n",
    "accounts_with_matches = load_execution_state(accounts_state, set())\n",
    "accounts_ids = set(accounts_ids) - accounts_with_matches\n",
    "\n",
    "for account_id in accounts_ids:\n",
    "    full_url = build_url(REGION, BASE_URL, endpoint, account_id)\n",
    "    response = call_with_retry(full_url, headers, params)\n",
    "    for match in response['matches']:\n",
    "        games_ids.add(match['gameId'])\n",
    "    save_execution_state(games_ids, games_ids_state)\n",
    "    accounts_with_matches.add(account_id)\n",
    "    save_execution_state(accounts_with_matches, accounts_state)\n",
    "        \n",
    "save_json(list(games_ids), 'games_ids.json')"
   ]
  },
  {
   "cell_type": "code",
   "execution_count": 3,
   "metadata": {},
   "outputs": [],
   "source": [
    "# Limpiar estados\n",
    "shutil.rmtree(execution_cache_dir)"
   ]
  },
  {
   "cell_type": "code",
   "execution_count": null,
   "metadata": {},
   "outputs": [],
   "source": []
  }
 ],
 "metadata": {
  "kernelspec": {
   "display_name": "Python 3",
   "language": "python",
   "name": "python3"
  }
 },
 "nbformat": 4,
 "nbformat_minor": 4
}