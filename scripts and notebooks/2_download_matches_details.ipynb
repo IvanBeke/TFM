{
 "cells": [
  {
   "cell_type": "code",
   "execution_count": 1,
   "metadata": {},
   "outputs": [
    {
     "output_type": "stream",
     "name": "stdout",
     "text": [
      "[5287968773, 5310382098, 5270077462, 5294719002, 5226627099, 5311365148, 5303435290, 5284659231, 5296980005, 5302550566, 5282594856, 5280006188, 5301501996, 5310840877, 5180227632, 5250547765, 5270306870, 5112430654, 5239767106, 5213421638]\n"
     ]
    }
   ],
   "source": [
    "from utils import build_url, load_json, save_json, call_with_retry, save_execution_state, load_execution_state\n",
    "import os, shutil\n",
    "\n",
    "API_KEY_FILE = 'api_key.txt'\n",
    "REGION = 'euw1'\n",
    "BASE_URL = 'api.riotgames.com'\n",
    "\n",
    "with open(API_KEY_FILE) as f:\n",
    "    api_key = f.read()\n",
    "\n",
    "execution_cache_dir = 'current_execution'\n",
    "games_ids_state = f'{execution_cache_dir}/games.pkl'\n",
    "accounts_state = f'{execution_cache_dir}/accounts.pkl'\n",
    "\n",
    "os.makedirs(execution_cache_dir, exist_ok=True)\n",
    "MIN_DELAY = 20/100 # esperar 20ms entre peticiones\n",
    "delay = MIN_DELAY\n",
    "\n",
    "headers = {\n",
    "  'X-Riot-Token': api_key\n",
    "}\n",
    "\n",
    "games = load_json('outputs/games_ids.json')\n",
    "print(games[0:20])"
   ]
  },
  {
   "cell_type": "code",
   "execution_count": 2,
   "metadata": {
    "tags": []
   },
   "outputs": [
    {
     "output_type": "stream",
     "name": "stdout",
     "text": [
      "Guardada partida 5287968773\n",
      "Guardada partida 5310382098\n",
      "Guardada partida 5270077462\n",
      "Guardada partida 5294719002\n",
      "Guardada partida 5226627099\n",
      "Guardada partida 5311365148\n",
      "Guardada partida 5303435290\n",
      "Guardada partida 5284659231\n",
      "Guardada partida 5296980005\n",
      "Guardada partida 5302550566\n",
      "Guardada partida 5282594856\n",
      "Guardada partida 5280006188\n",
      "Guardada partida 5301501996\n",
      "Guardada partida 5310840877\n",
      "Guardada partida 5180227632\n",
      "Guardada partida 5250547765\n",
      "Guardada partida 5270306870\n",
      "Guardada partida 5112430654\n",
      "Guardada partida 5239767106\n",
      "Guardada partida 5213421638\n",
      "Guardada partida 5223415880\n",
      "Guardada partida 5286494285\n",
      "Guardada partida 5290295380\n",
      "Guardada partida 5284560985\n",
      "Guardada partida 5214077020\n",
      "Guardada partida 5212668005\n",
      "Guardada partida 5237506150\n",
      "Guardada partida 5292064871\n",
      "Guardada partida 5298356330\n",
      "Guardada partida 5208244331\n",
      "Guardada partida 5273026667\n",
      "Guardada partida 5256642675\n",
      "Guardada partida 5278793844\n",
      "Guardada partida 5247238261\n",
      "Guardada partida 5255168121\n",
      "Guardada partida 5311987834\n",
      "Guardada partida 5264343164\n",
      "Guardada partida 5251072134\n",
      "Guardada partida 5214961798\n",
      "Guardada partida 5306417292\n",
      "Guardada partida 5237538961\n",
      "Guardada partida 5304778900\n",
      "Guardada partida 5307334807\n",
      "Guardada partida 5286887579\n",
      "Guardada partida 5259559087\n",
      "Guardada partida 5280760013\n",
      "Guardada partida 5284069605\n",
      "Guardada partida 5279088876\n",
      "Guardada partida 5216895213\n",
      "Guardada partida 5194186996\n",
      "Guardada partida 5241602293\n",
      "Guardada partida 5185405183\n",
      "Guardada partida 5309169929\n",
      "Guardada partida 5292523793\n",
      "Guardada partida 5312577812\n",
      "Guardada partida 5282758933\n",
      "Guardada partida 5177835799\n",
      "Guardada partida 5304844569\n",
      "Guardada partida 5232886047\n",
      "Guardada partida 5299798306\n",
      "Guardada partida 5294457138\n",
      "Guardada partida 5290361139\n",
      "Guardada partida 5297996084\n",
      "Guardada partida 5289476408\n",
      "Guardada partida 5257232697\n",
      "Guardada partida 5304320316\n",
      "Guardada partida 5308121405\n",
      "Guardada partida 5287805245\n",
      "Guardada partida 5283774783\n",
      "Guardada partida 5300453698\n",
      "Guardada partida 5268177222\n",
      "Guardada partida 5297471817\n",
      "Guardada partida 5279580491\n",
      "Guardada partida 5287870795\n",
      "Guardada partida 5283807563\n",
      "Guardada partida 5227872593\n",
      "Guardada partida 5284626778\n",
      "Guardada partida 5277385054\n",
      "Guardada partida 5287412069\n",
      "Guardada partida 5293703529\n",
      "Guardada partida 5220532596\n",
      "Guardada partida 5239669109\n",
      "Guardada partida 5258117495\n",
      "Guardada partida 5247566204\n",
      "Guardada partida 5282136447\n",
      "Guardada partida 5234262404\n",
      "Guardada partida 5287608717\n",
      "Guardada partida 5249073550\n",
      "Guardada partida 5278237073\n",
      "Guardada partida 5273092509\n",
      "Guardada partida 5282333085\n",
      "Guardada partida 5245174182\n",
      "Guardada partida 5230199229\n",
      "Guardada partida 5287543235\n",
      "Guardada partida 5243896260\n",
      "Guardada partida 5280924121\n",
      "Guardada partida 5288493536\n",
      "Guardada partida 5258576358\n",
      "Guardada partida 5312676346\n",
      "Guardada partida 5273059837\n"
     ]
    }
   ],
   "source": [
    "endpoint = '/lol/match/v4/matches/{}'\n",
    "output_dir = 'games/'\n",
    "\n",
    "for game in games[0:100]:\n",
    "    full_url = build_url(REGION, BASE_URL, endpoint, game)\n",
    "    response = call_with_retry(full_url, headers)\n",
    "    save_json(response, f'{output_dir}{game}.json')\n",
    "    print(f'Guardada partida {game}')"
   ]
  },
  {
   "cell_type": "code",
   "execution_count": 3,
   "metadata": {
    "tags": []
   },
   "outputs": [],
   "source": [
    "from collections import defaultdict\n",
    "\n",
    "champions_item_lists = defaultdict(list)\n",
    "games_dir = 'outputs/games'\n",
    "\n",
    "for game_file in os.listdir(games_dir):\n",
    "    if game_file.endswith('.json'):\n",
    "        game = load_json(f'{games_dir}/{game_file}')\n",
    "        for player in game['participants']:\n",
    "            items = [value for stat, value in player['stats'].items() if 'item' in stat and value != 0]\n",
    "            champions_item_lists[player['championId']].append(items)\n",
    "\n",
    "save_json(champions_item_lists, 'champion_item_lists.json')"
   ]
  },
  {
   "cell_type": "code",
   "execution_count": 4,
   "metadata": {},
   "outputs": [],
   "source": [
    "# Limpiar estados\n",
    "shutil.rmtree(execution_cache_dir)"
   ]
  },
  {
   "cell_type": "code",
   "execution_count": null,
   "metadata": {},
   "outputs": [],
   "source": []
  }
 ],
 "metadata": {
  "kernelspec": {
   "display_name": "Python 3",
   "language": "python",
   "name": "python3"
  }
 },
 "nbformat": 4,
 "nbformat_minor": 4
}