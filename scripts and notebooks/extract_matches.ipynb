{
 "cells": [
  {
   "cell_type": "code",
   "execution_count": 1,
   "metadata": {},
   "outputs": [
    {
     "name": "stdout",
     "output_type": "stream",
     "text": [
      "[{'summoner': 'DEXdsT_kkSFvatrJWf6BvzxoJoKWTrEJxY494i_AfBLs9Ho', 'account': 'cpDa6rnHFIQP33_P-Thda6DBEFZQQCFYNIbcnClYbXKGrEc'}, {'summoner': 'Fzd0uBGACARSDJKs4QiIDZHo1XUZjYNGm7j_1Czzd1Qjtqw', 'account': 'ypbT3klYhns-5YIPHHeZMm_YSLq06hGEqC1DU9qB_oFPkzI'}, {'summoner': 'XUahKkY6p3V8kh7cOP4Y2puoZBrql7NCk5KLCqQllvpXqUY', 'account': 'ciMNptPkXwuQcRPekdtZgf8BSZ4hRPuN_lmeNPGfSr9vSLg'}, {'summoner': '8QE8GfqXBMw9-FwRZ2Q5sbS-5M3KxrmWPPNrG6arRDPT1Cs', 'account': 'XpcM677yGPo2MQvoDUzBxjmE6JwzUlU-qtHDfikrWBmxL5Q'}, {'summoner': 'CDrf2ct4LcmOmfb8jz-nb-P_W2NTiO0lkaJZALvJAetk0IiRwzKB2LKJHA', 'account': 'C7Ul2PgEW9by___3zSy7VFe-lN10Q8r-fiTe2kx4muvD-DTc-MHVn7kY'}]\n",
      "['cpDa6rnHFIQP33_P-Thda6DBEFZQQCFYNIbcnClYbXKGrEc', 'ypbT3klYhns-5YIPHHeZMm_YSLq06hGEqC1DU9qB_oFPkzI', 'ciMNptPkXwuQcRPekdtZgf8BSZ4hRPuN_lmeNPGfSr9vSLg', 'XpcM677yGPo2MQvoDUzBxjmE6JwzUlU-qtHDfikrWBmxL5Q', 'C7Ul2PgEW9by___3zSy7VFe-lN10Q8r-fiTe2kx4muvD-DTc-MHVn7kY', 'mw0YEQVwXJDuQ_F7WiyLqssFON_S5H0k7lfSXxbzRJg_4ARg1MhfmWKn', 'a_DtSjw7ZpQgGknDlTiv1Kw_mUxp9Mezl3vsnAu_QFEyLvQ', 'gSfZtRohb2uZvXVOCxDugSQJy9_3tsoHEJ32ZTalphFisCM', '39m7Ni7N_dCGaIz0GVCTYFWZwqKzXDIY_7PyRe1jIp88TQL-tcRLz3fJ', 'cO8JxYUdQKPCh3XQczY3Hql71bVpr0kyH2C7eGyvcZUPdFw']\n"
     ]
    }
   ],
   "source": [
    "from utils import build_url, load_json, save_json, call_with_retry, save_execution_state, load_execution_state\n",
    "import os, shutil\n",
    "\n",
    "API_KEY_FILE = 'api_key.txt'\n",
    "REGION = 'euw1'\n",
    "BASE_URL = 'api.riotgames.com'\n",
    "\n",
    "QUEUE_TYPE = [420, 430, 440]  # Ver https://developer.riotgames.com/docs/lol#general_queue-ids\n",
    "\n",
    "with open(API_KEY_FILE) as f:\n",
    "    api_key = f.read()\n",
    "\n",
    "execution_cache_dir = 'current_execution'\n",
    "games_ids_state = f'{execution_cache_dir}/games.pkl'\n",
    "accounts_state = f'{execution_cache_dir}/accounts.pkl'\n",
    "\n",
    "os.makedirs(execution_cache_dir, exist_ok=True)\n",
    "MIN_DELAY = 20/100 # esperar 20ms entre peticiones\n",
    "delay = MIN_DELAY\n",
    "\n",
    "headers = {\n",
    "  'X-Riot-Token': api_key\n",
    "}\n",
    "\n",
    "accounts = load_json('outputs/accounts.json')\n",
    "print(accounts[0:5])\n",
    "accounts_ids = list(map(lambda a: a['account'], accounts))\n",
    "print(accounts_ids[0:10])"
   ]
  },
  {
   "cell_type": "code",
   "execution_count": 2,
   "metadata": {},
   "outputs": [],
   "source": [
    "endpoint = '/lol/match/v4/matchlists/by-account/{}'\n",
    "params = {\n",
    "    'queue': QUEUE_TYPE,\n",
    "}\n",
    "\n",
    "games_ids = load_execution_state(games_ids_state, set())\n",
    "accounts_with_matches = load_execution_state(accounts_state, set())\n",
    "accounts_ids = set(accounts_ids) - accounts_with_matches\n",
    "\n",
    "for account_id in accounts_ids:\n",
    "    full_url = build_url(REGION, BASE_URL, endpoint.format(account_id))\n",
    "    response = call_with_retry(full_url, headers, params)\n",
    "    for match in response['matches']:\n",
    "        games_ids.add(match['gameId'])\n",
    "    save_execution_state(games_ids, games_ids_state)\n",
    "    accounts_with_matches.add(account_id)\n",
    "    save_execution_state(accounts_with_matches, accounts_state)\n",
    "        \n",
    "save_json(list(games_ids), 'games_ids.json')"
   ]
  },
  {
   "cell_type": "code",
   "execution_count": 3,
   "metadata": {},
   "outputs": [],
   "source": [
    "# Limpiar estados\n",
    "shutil.rmtree(execution_cache_dir)"
   ]
  },
  {
   "cell_type": "code",
   "execution_count": null,
   "metadata": {},
   "outputs": [],
   "source": []
  }
 ],
 "metadata": {
  "kernelspec": {
   "display_name": "Python 3",
   "language": "python",
   "name": "python3"
  },
  "language_info": {
   "codemirror_mode": {
    "name": "ipython",
    "version": 3
   },
   "file_extension": ".py",
   "mimetype": "text/x-python",
   "name": "python",
   "nbconvert_exporter": "python",
   "pygments_lexer": "ipython3",
   "version": "3.7.6"
  }
 },
 "nbformat": 4,
 "nbformat_minor": 4
}
