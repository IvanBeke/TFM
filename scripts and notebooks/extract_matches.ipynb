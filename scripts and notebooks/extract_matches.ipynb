{
 "cells": [
  {
   "cell_type": "code",
   "execution_count": 3,
   "metadata": {},
   "outputs": [
    {
     "name": "stdout",
     "output_type": "stream",
     "text": [
      "[{'summoner': 'W4FWV0WQtcfWwLIskTfRFzv3TbiUlCwSYjfzgL8RFoZMEZ8', 'account': 'wP4ZYJ8G3LobK6Py98O1NxUDsBs83w0Zn76is45Fd3geMwc'}, {'summoner': 'x8moYiXbtKf3MIyzANylG82wj5gYDkP2MSZFvjFNo9iPdd4', 'account': 'WUt2gRS_lf1khAODvwz6_Kx8TqNgd6bXc8bFQf15DtwycQ'}, {'summoner': 'fMAfv3bollmkd8cNPm5ev-tyXE32-mVytWiTrBblrAAYnaY', 'account': '2dw_Tr_dJHAElbKJGjw01P7pC2RuRD1Tx3AFX36bnHAsiw'}, {'summoner': 'CZnSCvkHNJ2CNMsoR3t-s8JvC__ObY513ogx3FtAt4ghCcxF', 'account': 'OD8ifisZlASiq7XYj4OLDwbCAVNJkxiXr0TN06QqpWKZaevMC2JXEYBy'}, {'summoner': 'YYUrVcOqiYy-eUrg0PttMRSGjaJC4qHaVNinfeVzZOtllSno', 'account': 'VzXzkeTzjcjY-UeNXEJDYEqWaXM6Wq0xV92rU2RVIX5LUs3QpxONFrMU'}]\n",
      "['wP4ZYJ8G3LobK6Py98O1NxUDsBs83w0Zn76is45Fd3geMwc', 'WUt2gRS_lf1khAODvwz6_Kx8TqNgd6bXc8bFQf15DtwycQ', '2dw_Tr_dJHAElbKJGjw01P7pC2RuRD1Tx3AFX36bnHAsiw', 'OD8ifisZlASiq7XYj4OLDwbCAVNJkxiXr0TN06QqpWKZaevMC2JXEYBy', 'VzXzkeTzjcjY-UeNXEJDYEqWaXM6Wq0xV92rU2RVIX5LUs3QpxONFrMU', 'a_DtSjw7ZpQgGknDlTiv1Kw_mUxp9Mezl3vsnAu_QFEyLvQ', '0NFzdAnsy3Mia_Pup0_0IpLEifeBmzCPKgjb9z3CxyANlRRbQnprDSOT', '5BMEx8uFOLbtuajoH7CbJX58rRWFKuZj1pOkB-UqniFoEf5HKoWEDweU', 'ijB-rEhKuWPk0pmqF46iR9ex6za5I7W8Grp6WKMXv-ljsT4', 'EEnwGPcTKB-RlB_RR6WVrn8Xh7p0tV9TITYCC2O-Qo4OEvwDaHCMcBqu']\n"
     ]
    }
   ],
   "source": [
    "from utils import build_url, load_json, save_json, call_with_retry\n",
    "import os\n",
    "\n",
    "API_KEY_FILE = 'api_key.txt'\n",
    "REGION = 'euw1'\n",
    "BASE_URL = 'api.riotgames.com'\n",
    "\n",
    "QUEUE_TYPE = [420, 430, 440]  # Ver https://developer.riotgames.com/docs/lol#general_queue-ids\n",
    "\n",
    "with open(API_KEY_FILE) as f:\n",
    "    api_key = f.read()\n",
    "\n",
    "execution_cache_dir = 'current_execution'\n",
    "\n",
    "os.makedirs(execution_cache_dir, exist_ok=True)\n",
    "MIN_DELAY = 20/100 # esperar 20ms entre peticiones\n",
    "delay = MIN_DELAY\n",
    "\n",
    "headers = {\n",
    "  'X-Riot-Token': api_key\n",
    "}\n",
    "\n",
    "accounts = load_json('outputs/accounts.json')\n",
    "print(accounts[0:5])\n",
    "accountsIds = list(map(lambda a: a['account'], accounts))\n",
    "print(accountsIds[0:10])"
   ]
  },
  {
   "cell_type": "code",
   "execution_count": 5,
   "metadata": {},
   "outputs": [
    {
     "data": {
      "text/plain": [
       "[5227184131,\n",
       " 5269913603,\n",
       " 5287968773,\n",
       " 5259034633,\n",
       " 5251465229,\n",
       " 5270077462,\n",
       " 5294719002,\n",
       " 5284659231,\n",
       " 5296980005,\n",
       " 5282594856,\n",
       " 5267128361,\n",
       " 5280006188,\n",
       " 5261688877,\n",
       " 5282168878,\n",
       " 5250547765,\n",
       " 5158043708,\n",
       " 5135401021,\n",
       " 5112430654,\n",
       " 5291573316,\n",
       " 5286494285]"
      ]
     },
     "execution_count": 5,
     "metadata": {},
     "output_type": "execute_result"
    }
   ],
   "source": [
    "endpoint = '/lol/match/v4/matchlists/by-account/{}'\n",
    "params = {\n",
    "    'queue': QUEUE_TYPE,\n",
    "}\n",
    "\n",
    "gamesIds = set()\n",
    "\n",
    "for accountId in accountsIds:\n",
    "    full_url = build_url(REGION, BASE_URL, endpoint.format(accountId))\n",
    "    response = call_with_retry(full_url, headers, params)\n",
    "    for match in response['matches']:\n",
    "        gamesIds.add(match['gameId'])\n",
    "        \n",
    "list(gamesIds)[0:20]"
   ]
  },
  {
   "cell_type": "code",
   "execution_count": null,
   "metadata": {},
   "outputs": [],
   "source": []
  }
 ],
 "metadata": {
  "kernelspec": {
   "display_name": "Python 3",
   "language": "python",
   "name": "python3"
  },
  "language_info": {
   "codemirror_mode": {
    "name": "ipython",
    "version": 3
   },
   "file_extension": ".py",
   "mimetype": "text/x-python",
   "name": "python",
   "nbconvert_exporter": "python",
   "pygments_lexer": "ipython3",
   "version": "3.7.6"
  }
 },
 "nbformat": 4,
 "nbformat_minor": 4
}
