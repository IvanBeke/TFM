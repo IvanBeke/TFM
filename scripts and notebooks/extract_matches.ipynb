{
 "cells": [
  {
   "cell_type": "code",
   "execution_count": 1,
   "metadata": {},
   "outputs": [
    {
     "name": "stdout",
     "output_type": "stream",
     "text": [
      "[{'summoner': 'I6FBVa-W-NQRMm1odpG0PkI3sQCbYoQlhE7j6R6aTe2upnI', 'account': 'qkVFtFB-BtPcEq8g9ivcISNtyqxMF-OS38l8H9y7BCyX1g'}, {'summoner': 'jZf8y-91mnbox-V2DHR6TlMwbbXP1-k3BD23SMQk0TgDYAo', 'account': 'lOapMWCGTfdc5Z3HH5WvdAxpABVwZY9CLcD7vYoRq2JrXA'}, {'summoner': 'LkCrNx2rwEp7ouzvSzVZ81ZgW0tLrPqDAXimvHEYwwh-HT5O', 'account': '0NFzdAnsy3Mia_Pup0_0IpLEifeBmzCPKgjb9z3CxyANlRRbQnprDSOT'}, {'summoner': 'CE6Go5eaGb-HffQAR6XpAaoGuFloaOUOO05GEKuzwWIevOH4', 'account': 'c3u0czKdYrEy0BFb_luVDeb_3fp_rVrG7EpqLRYhh15j-pn1i-M_jn4U'}, {'summoner': 'fMAfv3bollmkd8cNPm5ev-tyXE32-mVytWiTrBblrAAYnaY', 'account': '2dw_Tr_dJHAElbKJGjw01P7pC2RuRD1Tx3AFX36bnHAsiw'}]\n",
      "['qkVFtFB-BtPcEq8g9ivcISNtyqxMF-OS38l8H9y7BCyX1g', 'lOapMWCGTfdc5Z3HH5WvdAxpABVwZY9CLcD7vYoRq2JrXA', '0NFzdAnsy3Mia_Pup0_0IpLEifeBmzCPKgjb9z3CxyANlRRbQnprDSOT', 'c3u0czKdYrEy0BFb_luVDeb_3fp_rVrG7EpqLRYhh15j-pn1i-M_jn4U', '2dw_Tr_dJHAElbKJGjw01P7pC2RuRD1Tx3AFX36bnHAsiw', 'cpDa6rnHFIQP33_P-Thda6DBEFZQQCFYNIbcnClYbXKGrEc', 'gSfZtRohb2uZvXVOCxDugSQJy9_3tsoHEJ32ZTalphFisCM', '89WPil9BuIOlgJ4VT4VwHzf_zooyqJKejbGSE-lT4HBYPic2K37M69gc', 'QaxMl33jIzl6N5Fju4dLMZrllVlwpYj5JEXVoQvKhoBAcg', '5yk741Md35JtP9DSVwhB7chsjBx49rhHUjSv4gk_PRlPlQ']\n"
     ]
    }
   ],
   "source": [
    "from utils import build_url, load_json, save_json, call_with_retry, save_execution_state, load_execution_state\n",
    "import os, shutil\n",
    "\n",
    "API_KEY_FILE = 'api_key.txt'\n",
    "REGION = 'euw1'\n",
    "BASE_URL = 'api.riotgames.com'\n",
    "\n",
    "QUEUE_TYPE = [420, 430, 440]  # Ver https://developer.riotgames.com/docs/lol#general_queue-ids\n",
    "\n",
    "with open(API_KEY_FILE) as f:\n",
    "    api_key = f.read()\n",
    "\n",
    "execution_cache_dir = 'current_execution'\n",
    "games_ids_state = f'{execution_cache_dir}/games.pkl'\n",
    "accounts_state = f'{execution_cache_dir}/accounts.pkl'\n",
    "\n",
    "os.makedirs(execution_cache_dir, exist_ok=True)\n",
    "MIN_DELAY = 20/100 # esperar 20ms entre peticiones\n",
    "delay = MIN_DELAY\n",
    "\n",
    "headers = {\n",
    "  'X-Riot-Token': api_key\n",
    "}\n",
    "\n",
    "accounts = load_json('outputs/accounts.json')\n",
    "print(accounts[0:5])\n",
    "accounts_ids = list(map(lambda a: a['account'], accounts))\n",
    "print(accounts_ids[0:10])"
   ]
  },
  {
   "cell_type": "code",
   "execution_count": 2,
   "metadata": {},
   "outputs": [],
   "source": [
    "endpoint = '/lol/match/v4/matchlists/by-account/{}'\n",
    "params = {\n",
    "    'queue': QUEUE_TYPE,\n",
    "}\n",
    "\n",
    "games_ids = load_execution_state(games_ids_state, set())\n",
    "accounts_with_matches = load_execution_state(accounts_state, set())\n",
    "accounts_ids = set(accounts_ids) - accounts_with_matches\n",
    "\n",
    "for account_id in accounts_ids:\n",
    "    full_url = build_url(REGION, BASE_URL, endpoint.format(account_id))\n",
    "    response = call_with_retry(full_url, headers, params)\n",
    "    for match in response['matches']:\n",
    "        games_ids.add(match['gameId'])\n",
    "    save_execution_state(games_ids, games_ids_state)\n",
    "    accounts_with_matches.add(account_id)\n",
    "    save_execution_state(accounts_with_matches, accounts_state)\n",
    "        \n",
    "save_json(list(games_ids), 'games_ids.json')"
   ]
  },
  {
   "cell_type": "code",
   "execution_count": 3,
   "metadata": {},
   "outputs": [],
   "source": [
    "# Limpiar estados\n",
    "shutil.rmtree(execution_cache_dir)"
   ]
  },
  {
   "cell_type": "code",
   "execution_count": null,
   "metadata": {},
   "outputs": [],
   "source": []
  }
 ],
 "metadata": {
  "kernelspec": {
   "display_name": "Python 3",
   "language": "python",
   "name": "python3"
  },
  "language_info": {
   "codemirror_mode": {
    "name": "ipython",
    "version": 3
   },
   "file_extension": ".py",
   "mimetype": "text/x-python",
   "name": "python",
   "nbconvert_exporter": "python",
   "pygments_lexer": "ipython3",
   "version": "3.7.6"
  }
 },
 "nbformat": 4,
 "nbformat_minor": 4
}
